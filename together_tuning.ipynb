{
 "cells": [
  {
   "cell_type": "code",
   "execution_count": 62,
   "metadata": {},
   "outputs": [],
   "source": [
    "import together\n",
    "from dotenv import load_dotenv\n",
    "import os\n",
    "import time\n",
    "import pickle"
   ]
  },
  {
   "cell_type": "markdown",
   "metadata": {},
   "source": [
    "### Fintune"
   ]
  },
  {
   "cell_type": "code",
   "execution_count": 63,
   "metadata": {},
   "outputs": [],
   "source": [
    "load_dotenv()\n",
    "together.api_key = os.getenv('TOGETHER_API_KEY')"
   ]
  },
  {
   "cell_type": "code",
   "execution_count": 64,
   "metadata": {},
   "outputs": [
    {
     "name": "stdout",
     "output_type": "stream",
     "text": [
      "{'is_check_passed': True, 'model_special_tokens': 'we are not yet checking end of sentence tokens for this model', 'file_present': 'File found', 'file_size': 'File size 0.001 GB', 'num_samples': 9600}\n"
     ]
    }
   ],
   "source": [
    "resp = together.Files.check(file=\"cipher_data.jsonl\")\n",
    "print(resp)"
   ]
  },
  {
   "cell_type": "code",
   "execution_count": 65,
   "metadata": {},
   "outputs": [
    {
     "name": "stderr",
     "output_type": "stream",
     "text": [
      "Uploading cipher_data.jsonl: 100%|██████████| 1.09M/1.09M [00:00<00:00, 1.29MB/s]"
     ]
    },
    {
     "name": "stdout",
     "output_type": "stream",
     "text": [
      "{'filename': 'cipher_data.jsonl', 'id': 'file-6f6a2a4f-44c1-4589-b262-da772916a495', 'object': 'file', 'report_dict': {'is_check_passed': True, 'model_special_tokens': 'we are not yet checking end of sentence tokens for this model', 'file_present': 'File found', 'file_size': 'File size 0.001 GB', 'num_samples': 9600}}\n"
     ]
    },
    {
     "name": "stderr",
     "output_type": "stream",
     "text": [
      "\n"
     ]
    }
   ],
   "source": [
    "resp = together.Files.upload(file=\"cipher_data.jsonl\")\n",
    "print(resp)"
   ]
  },
  {
   "cell_type": "code",
   "execution_count": 69,
   "metadata": {},
   "outputs": [],
   "source": [
    "fine_tune_resp = together.Finetune.create(\n",
    "  training_file = resp['id'],\n",
    "  model = 'togethercomputer/llama-2-7b-chat',\n",
    "  n_epochs = 4,\n",
    "  n_checkpoints = 1,\n",
    "  batch_size = 32,\n",
    "  # lora = True, #super important\n",
    "  learning_rate = 1e-5,\n",
    "  suffix = 'cs224n-milestone-finetune',\n",
    "  wandb_api_key = os.getenv('WAND_DB')\n",
    ")"
   ]
  },
  {
   "cell_type": "code",
   "execution_count": 70,
   "metadata": {},
   "outputs": [
    {
     "data": {
      "text/plain": [
       "{'training_file': 'file-6f6a2a4f-44c1-4589-b262-da772916a495',\n",
       " 'validation_file': '',\n",
       " 'model_output_name': 'macvincentaghaoko@gmail.com/llama-2-7b-chat-cs224n-milestone-finetune-2024-03-02-00-58-50',\n",
       " 'model_output_path': 's3://together-dev/finetune/65df9e44f5850c89099e8634/macvincentaghaoko@gmail.com/llama-2-7b-chat-cs224n-milestone-finetune-2024-03-02-00-58-50/ft-6f11d58a-662c-4faf-a3bd-e07226e2a19c',\n",
       " 'Suffix': 'cs224n-milestone-finetune',\n",
       " 'model': 'togethercomputer/llama-2-7b-chat',\n",
       " 'n_epochs': 4,\n",
       " 'n_checkpoints': 1,\n",
       " 'batch_size': 32,\n",
       " 'learning_rate': 1e-05,\n",
       " 'eval_steps': 0,\n",
       " 'user_id': '65df9e44f5850c89099e8634',\n",
       " 'lora': False,\n",
       " 'lora_r': 8,\n",
       " 'lora_alpha': 8,\n",
       " 'lora_dropout': 0,\n",
       " 'staring_epoch': 0,\n",
       " 'training_offset': 0,\n",
       " 'checkspoint_path': '',\n",
       " 'random_seed': '',\n",
       " 'created_at': '2024-03-02T00:58:50.476Z',\n",
       " 'updated_at': '2024-03-02T00:58:50.476Z',\n",
       " 'status': 'pending',\n",
       " 'owner_address': '0xdfcc9c9ecdd66266dfc6d8fc11d2b8eb0622e840',\n",
       " 'id': 'ft-6f11d58a-662c-4faf-a3bd-e07226e2a19c',\n",
       " 'job_id': '',\n",
       " 'token_count': 0,\n",
       " 'param_count': 0,\n",
       " 'total_price': 0,\n",
       " 'epochs_completed': 0,\n",
       " 'events': [{'object': 'fine-tune-event',\n",
       "   'created_at': '2024-03-02T00:58:50.476Z',\n",
       "   'level': '',\n",
       "   'message': 'Fine tune request created',\n",
       "   'type': 'JOB_PENDING',\n",
       "   'param_count': 0,\n",
       "   'token_count': 0,\n",
       "   'wandb_url': '',\n",
       "   'checkpoint_path': '',\n",
       "   'model_path': '',\n",
       "   'training_offset': 0,\n",
       "   'hash': ''}],\n",
       " 'queue_depth': 0,\n",
       " 'wandb_key': '3436f40b1cca626339a0a6076e60a263f9de46e3',\n",
       " 'wandb_project_name': '',\n",
       " 'wandb_url': '',\n",
       " 'enable_checkpoints': False,\n",
       " 'internal_flags': '',\n",
       " 'UsedModelName': '',\n",
       " 'TrainingFileNumLines': 0,\n",
       " 'TrainingFileSize': 1145364,\n",
       " 'job_stats': {'FtUserTime': '',\n",
       "  'FtSysTime': '',\n",
       "  'FtMaxRss': 0,\n",
       "  'FtMinPgFlt': 0,\n",
       "  'FtMajPgFlt': 0,\n",
       "  'FtInBlock': 0,\n",
       "  'FtOutBlock': 0,\n",
       "  'FtNvCsw': 0,\n",
       "  'FtNivCsw': 0}}"
      ]
     },
     "execution_count": 70,
     "metadata": {},
     "output_type": "execute_result"
    }
   ],
   "source": [
    "fine_tune_resp"
   ]
  },
  {
   "cell_type": "code",
   "execution_count": 76,
   "metadata": {},
   "outputs": [
    {
     "name": "stdout",
     "output_type": "stream",
     "text": [
      "running\n",
      "False\n"
     ]
    }
   ],
   "source": [
    "\n",
    "fine_tune_id = fine_tune_resp['id']\n",
    "print(together.Finetune.get_job_status(fine_tune_id=fine_tune_id)) # pending, running, completed, compressing\n",
    "print(together.Finetune.is_final_model_available(fine_tune_id=fine_tune_id)) # True, False"
   ]
  },
  {
   "cell_type": "code",
   "execution_count": 74,
   "metadata": {},
   "outputs": [
    {
     "name": "stdout",
     "output_type": "stream",
     "text": [
      "https://wandb.ai/amacvincent/together?workspace=user-amacvincent\n"
     ]
    }
   ],
   "source": [
    "username = 'amacvincent'\n",
    "wandb_url = f'https://wandb.ai/{username}/together?workspace=user-{username}'\n",
    "print(wandb_url)"
   ]
  },
  {
   "cell_type": "markdown",
   "metadata": {},
   "source": [
    "### Inference"
   ]
  },
  {
   "cell_type": "code",
   "execution_count": 35,
   "metadata": {},
   "outputs": [
    {
     "data": {
      "text/plain": [
       "{'success': True,\n",
       " 'value': '8a35fc77f1934b85183184fdeaa66566dcbf7060a07a0b7cf5ba8deab057418b-56765a6fe2bb6a79ec81ccd91a4b56fa55600232925861afda937a13f7a6f2e7'}"
      ]
     },
     "execution_count": 35,
     "metadata": {},
     "output_type": "execute_result"
    }
   ],
   "source": [
    "model_name = fine_tune_resp[\"model_output_name\"]\n",
    "together.Models.start(model_name)"
   ]
  },
  {
   "cell_type": "code",
   "execution_count": 61,
   "metadata": {},
   "outputs": [],
   "source": [
    "output = together.Complete.create(\n",
    "  prompt = \"[Ciphered]: dah to go thru eht <unk> to take it back .\\n[Deciphered]: \", \n",
    "  model = model_name,\n",
    "  temperature = 0.2,\n",
    "  top_k = 1,\n",
    "  top_p = 1,\n",
    "  repetition_penalty = 1.1,\n",
    "  stop = ['</s>']\n",
    ")"
   ]
  },
  {
   "cell_type": "code",
   "execution_count": 59,
   "metadata": {},
   "outputs": [
    {
     "data": {
      "text/plain": [
       "{'status': 'finished',\n",
       " 'prompt': ['[Ciphered]: dah to go thru eht <unk> to take it back .\\n[Deciphered]: '],\n",
       " 'model': 'macvincentaghaoko@gmail.com/llama-2-7b-chat-cs224n-milestone-finetune-2024-03-01-23-43-49',\n",
       " 'model_owner': '',\n",
       " 'tags': {},\n",
       " 'num_returns': 1,\n",
       " 'args': {'model': 'macvincentaghaoko@gmail.com/llama-2-7b-chat-cs224n-milestone-finetune-2024-03-01-23-43-49',\n",
       "  'prompt': '[Ciphered]: dah to go thru eht <unk> to take it back .\\n[Deciphered]: ',\n",
       "  'top_p': 1,\n",
       "  'top_k': 1,\n",
       "  'temperature': 0.2,\n",
       "  'max_tokens': 128,\n",
       "  'stop': ['</s>'],\n",
       "  'repetition_penalty': 1.1,\n",
       "  'logprobs': None,\n",
       "  'safety_model': None},\n",
       " 'subjobs': [],\n",
       " 'output': {'choices': [{'text': '\"dah to go through EHT to take it back.\"\\n\\nWhat does this message mean?'}],\n",
       "  'request_id': '85dd684cfe8e2314-SJC',\n",
       "  'usage': {'completion_tokens': 22, 'prompt_tokens': 28, 'total_tokens': 50}}}"
      ]
     },
     "execution_count": 59,
     "metadata": {},
     "output_type": "execute_result"
    }
   ],
   "source": [
    "output"
   ]
  },
  {
   "cell_type": "code",
   "execution_count": 52,
   "metadata": {},
   "outputs": [],
   "source": [
    "with open('test_dataset.pickle', 'rb') as handle:\n",
    "    test_dataset = pickle.load(handle)\n",
    "test_input, test_output = test_dataset"
   ]
  },
  {
   "cell_type": "code",
   "execution_count": 54,
   "metadata": {},
   "outputs": [
    {
     "name": "stdout",
     "output_type": "stream",
     "text": [
      "2400 2400\n"
     ]
    }
   ],
   "source": [
    "print(len(test_input), len(test_output))"
   ]
  },
  {
   "cell_type": "code",
   "execution_count": null,
   "metadata": {},
   "outputs": [],
   "source": []
  }
 ],
 "metadata": {
  "kernelspec": {
   "display_name": "local_nmt",
   "language": "python",
   "name": "python3"
  },
  "language_info": {
   "codemirror_mode": {
    "name": "ipython",
    "version": 3
   },
   "file_extension": ".py",
   "mimetype": "text/x-python",
   "name": "python",
   "nbconvert_exporter": "python",
   "pygments_lexer": "ipython3",
   "version": "3.8.18"
  }
 },
 "nbformat": 4,
 "nbformat_minor": 2
}
