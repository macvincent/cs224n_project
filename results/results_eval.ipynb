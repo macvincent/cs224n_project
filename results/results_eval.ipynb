{
 "cells": [
  {
   "cell_type": "code",
   "execution_count": 24,
   "metadata": {},
   "outputs": [],
   "source": [
    "from nltk.translate.bleu_score import sentence_bleu\n",
    "import pandas\n",
    "import pickle\n",
    "from tqdm import tqdm\n",
    "import numpy as np"
   ]
  },
  {
   "cell_type": "code",
   "execution_count": 50,
   "metadata": {},
   "outputs": [
    {
     "name": "stderr",
     "output_type": "stream",
     "text": [
      "huggingface/tokenizers: The current process just got forked, after parallelism has already been used. Disabling parallelism to avoid deadlocks...\n",
      "To disable this warning, you can either:\n",
      "\t- Avoid using `tokenizers` before the fork if possible\n",
      "\t- Explicitly set the environment variable TOKENIZERS_PARALLELISM=(true | false)\n"
     ]
    },
    {
     "name": "stdout",
     "output_type": "stream",
     "text": [
      "Requirement already satisfied: sentence-transformers in /home/macvincent/miniconda3/envs/local_nmt/lib/python3.8/site-packages (2.5.1)\n",
      "Requirement already satisfied: transformers<5.0.0,>=4.32.0 in /home/macvincent/miniconda3/envs/local_nmt/lib/python3.8/site-packages (from sentence-transformers) (4.38.2)\n",
      "Requirement already satisfied: tqdm in /home/macvincent/miniconda3/envs/local_nmt/lib/python3.8/site-packages (from sentence-transformers) (4.66.2)\n",
      "Requirement already satisfied: torch>=1.11.0 in /home/macvincent/miniconda3/envs/local_nmt/lib/python3.8/site-packages (from sentence-transformers) (2.2.0)\n",
      "Requirement already satisfied: numpy in /home/macvincent/miniconda3/envs/local_nmt/lib/python3.8/site-packages (from sentence-transformers) (1.24.3)\n",
      "Requirement already satisfied: scikit-learn in /home/macvincent/miniconda3/envs/local_nmt/lib/python3.8/site-packages (from sentence-transformers) (1.3.2)\n",
      "Requirement already satisfied: scipy in /home/macvincent/miniconda3/envs/local_nmt/lib/python3.8/site-packages (from sentence-transformers) (1.10.1)\n",
      "Requirement already satisfied: huggingface-hub>=0.15.1 in /home/macvincent/miniconda3/envs/local_nmt/lib/python3.8/site-packages (from sentence-transformers) (0.21.4)\n",
      "Requirement already satisfied: Pillow in /home/macvincent/miniconda3/envs/local_nmt/lib/python3.8/site-packages (from sentence-transformers) (10.0.1)\n",
      "Requirement already satisfied: filelock in /home/macvincent/miniconda3/envs/local_nmt/lib/python3.8/site-packages (from huggingface-hub>=0.15.1->sentence-transformers) (3.13.1)\n",
      "Requirement already satisfied: fsspec>=2023.5.0 in /home/macvincent/miniconda3/envs/local_nmt/lib/python3.8/site-packages (from huggingface-hub>=0.15.1->sentence-transformers) (2024.3.0)\n",
      "Requirement already satisfied: requests in /home/macvincent/miniconda3/envs/local_nmt/lib/python3.8/site-packages (from huggingface-hub>=0.15.1->sentence-transformers) (2.31.0)\n",
      "Requirement already satisfied: pyyaml>=5.1 in /home/macvincent/miniconda3/envs/local_nmt/lib/python3.8/site-packages (from huggingface-hub>=0.15.1->sentence-transformers) (6.0.1)\n",
      "Requirement already satisfied: typing-extensions>=3.7.4.3 in /home/macvincent/miniconda3/envs/local_nmt/lib/python3.8/site-packages (from huggingface-hub>=0.15.1->sentence-transformers) (4.9.0)\n",
      "Requirement already satisfied: packaging>=20.9 in /home/macvincent/miniconda3/envs/local_nmt/lib/python3.8/site-packages (from huggingface-hub>=0.15.1->sentence-transformers) (23.1)\n",
      "Requirement already satisfied: sympy in /home/macvincent/miniconda3/envs/local_nmt/lib/python3.8/site-packages (from torch>=1.11.0->sentence-transformers) (1.12)\n",
      "Requirement already satisfied: networkx in /home/macvincent/miniconda3/envs/local_nmt/lib/python3.8/site-packages (from torch>=1.11.0->sentence-transformers) (3.1)\n",
      "Requirement already satisfied: jinja2 in /home/macvincent/miniconda3/envs/local_nmt/lib/python3.8/site-packages (from torch>=1.11.0->sentence-transformers) (3.1.3)\n",
      "Requirement already satisfied: regex!=2019.12.17 in /home/macvincent/miniconda3/envs/local_nmt/lib/python3.8/site-packages (from transformers<5.0.0,>=4.32.0->sentence-transformers) (2023.10.3)\n",
      "Requirement already satisfied: tokenizers<0.19,>=0.14 in /home/macvincent/miniconda3/envs/local_nmt/lib/python3.8/site-packages (from transformers<5.0.0,>=4.32.0->sentence-transformers) (0.15.2)\n",
      "Requirement already satisfied: safetensors>=0.4.1 in /home/macvincent/miniconda3/envs/local_nmt/lib/python3.8/site-packages (from transformers<5.0.0,>=4.32.0->sentence-transformers) (0.4.2)\n",
      "Requirement already satisfied: joblib>=1.1.1 in /home/macvincent/miniconda3/envs/local_nmt/lib/python3.8/site-packages (from scikit-learn->sentence-transformers) (1.2.0)\n",
      "Requirement already satisfied: threadpoolctl>=2.0.0 in /home/macvincent/miniconda3/envs/local_nmt/lib/python3.8/site-packages (from scikit-learn->sentence-transformers) (3.3.0)\n",
      "Requirement already satisfied: MarkupSafe>=2.0 in /home/macvincent/miniconda3/envs/local_nmt/lib/python3.8/site-packages (from jinja2->torch>=1.11.0->sentence-transformers) (2.1.3)\n",
      "Requirement already satisfied: charset-normalizer<4,>=2 in /home/macvincent/miniconda3/envs/local_nmt/lib/python3.8/site-packages (from requests->huggingface-hub>=0.15.1->sentence-transformers) (2.0.4)\n",
      "Requirement already satisfied: idna<4,>=2.5 in /home/macvincent/miniconda3/envs/local_nmt/lib/python3.8/site-packages (from requests->huggingface-hub>=0.15.1->sentence-transformers) (3.4)\n",
      "Requirement already satisfied: urllib3<3,>=1.21.1 in /home/macvincent/miniconda3/envs/local_nmt/lib/python3.8/site-packages (from requests->huggingface-hub>=0.15.1->sentence-transformers) (1.26.18)\n",
      "Requirement already satisfied: certifi>=2017.4.17 in /home/macvincent/miniconda3/envs/local_nmt/lib/python3.8/site-packages (from requests->huggingface-hub>=0.15.1->sentence-transformers) (2024.2.2)\n",
      "Requirement already satisfied: mpmath>=0.19 in /home/macvincent/miniconda3/envs/local_nmt/lib/python3.8/site-packages (from sympy->torch>=1.11.0->sentence-transformers) (1.3.0)\n"
     ]
    },
    {
     "name": "stderr",
     "output_type": "stream",
     "text": [
      "huggingface/tokenizers: The current process just got forked, after parallelism has already been used. Disabling parallelism to avoid deadlocks...\n",
      "To disable this warning, you can either:\n",
      "\t- Avoid using `tokenizers` before the fork if possible\n",
      "\t- Explicitly set the environment variable TOKENIZERS_PARALLELISM=(true | false)\n"
     ]
    },
    {
     "name": "stdout",
     "output_type": "stream",
     "text": [
      "Collecting gensim\n",
      "  Downloading gensim-4.3.2-cp38-cp38-manylinux_2_17_x86_64.manylinux2014_x86_64.whl.metadata (8.5 kB)\n",
      "Requirement already satisfied: numpy>=1.18.5 in /home/macvincent/miniconda3/envs/local_nmt/lib/python3.8/site-packages (from gensim) (1.24.3)\n",
      "Requirement already satisfied: scipy>=1.7.0 in /home/macvincent/miniconda3/envs/local_nmt/lib/python3.8/site-packages (from gensim) (1.10.1)\n",
      "Collecting smart-open>=1.8.1 (from gensim)\n",
      "  Downloading smart_open-7.0.1-py3-none-any.whl.metadata (23 kB)\n",
      "Collecting wrapt (from smart-open>=1.8.1->gensim)\n",
      "  Downloading wrapt-1.16.0-cp38-cp38-manylinux_2_5_x86_64.manylinux1_x86_64.manylinux_2_17_x86_64.manylinux2014_x86_64.whl.metadata (6.6 kB)\n",
      "Downloading gensim-4.3.2-cp38-cp38-manylinux_2_17_x86_64.manylinux2014_x86_64.whl (26.6 MB)\n",
      "\u001b[2K   \u001b[90m━━━━━━━━━━━━━━━━━━━━━━━━━━━━━━━━━━━━━━━━\u001b[0m \u001b[32m26.6/26.6 MB\u001b[0m \u001b[31m940.2 kB/s\u001b[0m eta \u001b[36m0:00:00\u001b[0m00:01\u001b[0m00:01\u001b[0m\n",
      "\u001b[?25hDownloading smart_open-7.0.1-py3-none-any.whl (60 kB)\n",
      "\u001b[2K   \u001b[90m━━━━━━━━━━━━━━━━━━━━━━━━━━━━━━━━━━━━━━━━\u001b[0m \u001b[32m60.8/60.8 kB\u001b[0m \u001b[31m3.9 MB/s\u001b[0m eta \u001b[36m0:00:00\u001b[0m\n",
      "\u001b[?25hDownloading wrapt-1.16.0-cp38-cp38-manylinux_2_5_x86_64.manylinux1_x86_64.manylinux_2_17_x86_64.manylinux2014_x86_64.whl (83 kB)\n",
      "\u001b[2K   \u001b[90m━━━━━━━━━━━━━━━━━━━━━━━━━━━━━━━━━━━━━━━━\u001b[0m \u001b[32m83.4/83.4 kB\u001b[0m \u001b[31m5.5 MB/s\u001b[0m eta \u001b[36m0:00:00\u001b[0m\n",
      "\u001b[?25hInstalling collected packages: wrapt, smart-open, gensim\n",
      "Successfully installed gensim-4.3.2 smart-open-7.0.1 wrapt-1.16.0\n"
     ]
    }
   ],
   "source": [
    "!pip install -U sentence-transformers\n",
    "!pip install gensim"
   ]
  },
  {
   "cell_type": "code",
   "execution_count": 51,
   "metadata": {},
   "outputs": [
    {
     "name": "stdout",
     "output_type": "stream",
     "text": [
      "[=====---------------------------------------------] 10.5% 174.0/1662.8MB downloaded"
     ]
    }
   ],
   "source": [
    "import gensim.downloader as api\n",
    "wmd_model = api.load('word2vec-google-news-300')"
   ]
  },
  {
   "cell_type": "code",
   "execution_count": 36,
   "metadata": {},
   "outputs": [
    {
     "name": "stderr",
     "output_type": "stream",
     "text": [
      "/home/macvincent/miniconda3/envs/local_nmt/lib/python3.8/site-packages/tqdm/auto.py:21: TqdmWarning: IProgress not found. Please update jupyter and ipywidgets. See https://ipywidgets.readthedocs.io/en/stable/user_install.html\n",
      "  from .autonotebook import tqdm as notebook_tqdm\n"
     ]
    }
   ],
   "source": [
    "from sentence_transformers import SentenceTransformer\n",
    "cos_sim_model = SentenceTransformer('paraphrase-MiniLM-L6-v2')"
   ]
  },
  {
   "cell_type": "code",
   "execution_count": 42,
   "metadata": {},
   "outputs": [],
   "source": [
    "def calculate_metrics(result_df):\n",
    "  output_bleu_scores = []\n",
    "  cosine_similarities = []\n",
    "  wmds = []\n",
    "  for _, row in tqdm(result_df.iterrows()):\n",
    "    model_response = row['model_response']\n",
    "    expected_response = row['expected_response']\n",
    "    \n",
    "    # BLEU Similarity\n",
    "    output_bleu_scores.append(sentence_bleu([expected_response.split()], model_response.split()))\n",
    "\n",
    "    # Consine Similarity\n",
    "    model_encoding = cos_sim_model.encode(model_response)\n",
    "    expected_encoding = cos_sim_model.encode(expected_response)\n",
    "    consine_similarity = np.dot(model_encoding, expected_encoding)/(np.linalg.norm(model_encoding)*np.linalg.norm(expected_encoding))\n",
    "    cosine_similarities.append(consine_similarity)\n",
    "    \n",
    "    # WMD\n",
    "    wm_distance = wmd_model.wmdistance(model_response.split(), expected_response.split())\n",
    "    wmds.append(wm_distance)\n",
    "\n",
    "  output_bleu_scores = np.array(output_bleu_scores)\n",
    "  cosine_similarities = np.array(cosine_similarities)\n",
    "  wmds = np.array(wmds)\n",
    "  return np.mean(output_bleu_scores), np.mean(cosine_similarities), np.mean(wmds)"
   ]
  },
  {
   "cell_type": "code",
   "execution_count": 47,
   "metadata": {},
   "outputs": [
    {
     "name": "stdout",
     "output_type": "stream",
     "text": [
      "For experiment: rosa_finetune_r_4\n"
     ]
    },
    {
     "name": "stderr",
     "output_type": "stream",
     "text": [
      "0it [00:00, ?it/s]"
     ]
    },
    {
     "name": "stderr",
     "output_type": "stream",
     "text": [
      "/home/macvincent/miniconda3/envs/local_nmt/lib/python3.8/site-packages/nltk/translate/bleu_score.py:552: UserWarning: \n",
      "The hypothesis contains 0 counts of 2-gram overlaps.\n",
      "Therefore the BLEU score evaluates to 0, independently of\n",
      "how many N-gram overlaps of lower order it contains.\n",
      "Consider using lower n-gram order or use SmoothingFunction()\n",
      "  warnings.warn(_msg)\n",
      "/home/macvincent/miniconda3/envs/local_nmt/lib/python3.8/site-packages/nltk/translate/bleu_score.py:552: UserWarning: \n",
      "The hypothesis contains 0 counts of 3-gram overlaps.\n",
      "Therefore the BLEU score evaluates to 0, independently of\n",
      "how many N-gram overlaps of lower order it contains.\n",
      "Consider using lower n-gram order or use SmoothingFunction()\n",
      "  warnings.warn(_msg)\n",
      "/home/macvincent/miniconda3/envs/local_nmt/lib/python3.8/site-packages/nltk/translate/bleu_score.py:552: UserWarning: \n",
      "The hypothesis contains 0 counts of 4-gram overlaps.\n",
      "Therefore the BLEU score evaluates to 0, independently of\n",
      "how many N-gram overlaps of lower order it contains.\n",
      "Consider using lower n-gram order or use SmoothingFunction()\n",
      "  warnings.warn(_msg)\n",
      "1462it [00:48, 30.38it/s]\n"
     ]
    }
   ],
   "source": [
    "# result_paths = ['lora_finetune_r_4', 'lora_finetune_r_8', 'lora_finetune_r_16', 'rosa_finetune_r_16', 'rosa_finetune_r_8', 'rosa_finetune_r_4']\n",
    "result_paths = ['rosa_finetune_r_4']\n",
    "BLEU_score = []\n",
    "cosine_score = []\n",
    "wmd_scores = []\n",
    "for result_path in result_paths:\n",
    "  print(\"For experiment:\", result_path)\n",
    "  with open(f\"./{result_path}.pkl\", \"rb\") as input_file:\n",
    "    result_df = pickle.load(input_file)\n",
    "    bleu, cosine, wmd = calculate_metrics(result_df)\n",
    "    BLEU_score.append(bleu)\n",
    "    cosine_score.append(cosine)\n",
    "    wmd_scores.append(wmd)"
   ]
  },
  {
   "cell_type": "code",
   "execution_count": 48,
   "metadata": {},
   "outputs": [
    {
     "name": "stdout",
     "output_type": "stream",
     "text": [
      "['rosa_finetune_r_4']\n",
      "[0.02079812071505654]\n",
      "[0.5342936]\n"
     ]
    }
   ],
   "source": [
    "print(result_paths)\n",
    "print(BLEU_score)\n",
    "print(cosine_score)\n",
    "print(wmd_scores)"
   ]
  }
 ],
 "metadata": {
  "kernelspec": {
   "display_name": "local_nmt",
   "language": "python",
   "name": "python3"
  },
  "language_info": {
   "codemirror_mode": {
    "name": "ipython",
    "version": 3
   },
   "file_extension": ".py",
   "mimetype": "text/x-python",
   "name": "python",
   "nbconvert_exporter": "python",
   "pygments_lexer": "ipython3",
   "version": "3.8.18"
  }
 },
 "nbformat": 4,
 "nbformat_minor": 2
}
