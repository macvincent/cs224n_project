{
 "cells": [
  {
   "cell_type": "code",
   "execution_count": 12,
   "metadata": {},
   "outputs": [],
   "source": [
    "import json\n",
    "import numpy as np\n",
    "from nltk.tokenize import word_tokenize, sent_tokenize\n",
    "import pickle "
   ]
  },
  {
   "cell_type": "code",
   "execution_count": 13,
   "metadata": {},
   "outputs": [],
   "source": [
    "data_file = open(\"yelp_academic_dataset_review.json\")"
   ]
  },
  {
   "cell_type": "code",
   "execution_count": 14,
   "metadata": {},
   "outputs": [],
   "source": [
    "positive_sentence = 0\n",
    "sentence_count = 0\n",
    "maximum_sentence_length = 0\n",
    "word_count = dict()\n",
    "dataset_size = 1000000"
   ]
  },
  {
   "cell_type": "code",
   "execution_count": 15,
   "metadata": {},
   "outputs": [],
   "source": [
    "for line in data_file:\n",
    "    entry = json.loads(line)\n",
    "    review = entry['text']\n",
    "    is_positive = entry['stars'] >= 3.0\n",
    "    if is_positive:\n",
    "        positive_sentence += 1\n",
    "\n",
    "    sentences = sent_tokenize(review)\n",
    "    if len(sentences) > 10:\n",
    "        continue\n",
    "\n",
    "    if sentence_count >= dataset_size:\n",
    "        break\n",
    "\n",
    "    for sentence in sentences:\n",
    "\n",
    "        words = word_tokenize(sentence.lower())\n",
    "        words_length = len(words)\n",
    "        if words_length > 15:\n",
    "            continue\n",
    "        sentence_count += 1\n",
    "\n",
    "        maximum_sentence_length = max(maximum_sentence_length, words_length)\n",
    "\n",
    "        for word in words:\n",
    "            if word in word_count:\n",
    "                word_count[word] += 1\n",
    "            else:\n",
    "                word_count[word] = 1"
   ]
  },
  {
   "cell_type": "code",
   "execution_count": 16,
   "metadata": {},
   "outputs": [],
   "source": [
    "vocab = dict()\n",
    "vocab['<unk>'] = 0\n",
    "vocab[u'\\u25A1'] = 1\n",
    "next_index = 2\n",
    "\n",
    "for word, count in word_count.items():\n",
    "    if count <= 5:\n",
    "        continue\n",
    "    vocab[word] = next_index\n",
    "    next_index += 1"
   ]
  },
  {
   "cell_type": "code",
   "execution_count": 17,
   "metadata": {},
   "outputs": [],
   "source": [
    "dataset = []\n",
    "ratings = []\n",
    "sentence_count = 0\n",
    "\n",
    "for line in data_file:\n",
    "    entry = json.loads(line)\n",
    "    review = entry['text']\n",
    "    is_positive = entry['stars'] >= 3.0\n",
    "\n",
    "    sentences = sent_tokenize(review)\n",
    "    if len(sentences) > 10:\n",
    "        continue\n",
    "    \n",
    "    if sentence_count >= dataset_size:\n",
    "        break\n",
    "\n",
    "    for sentence in sentences:\n",
    "        indexes = []\n",
    "        words = word_tokenize(sentence.lower())\n",
    "        words_length = len(words)\n",
    "        if words_length > 15:\n",
    "            continue\n",
    "        sentence_count += 1\n",
    "\n",
    "        for word in words:\n",
    "            if word in vocab:\n",
    "                indexes.append(vocab[word])\n",
    "            else:\n",
    "                indexes.append(0)\n",
    "        while len(indexes) < maximum_sentence_length+1:\n",
    "            indexes.append(1)\n",
    "\n",
    "        dataset.append(indexes)\n",
    "        ratings.append(is_positive)"
   ]
  },
  {
   "cell_type": "code",
   "execution_count": 18,
   "metadata": {},
   "outputs": [],
   "source": [
    "np.savetxt(\"sentiment_dataset_reviews.txt\", dataset, fmt=\"%d\")\n",
    "np.savetxt(\"positive_ratings.txt\", ratings,  fmt=\"%d\")"
   ]
  },
  {
   "cell_type": "code",
   "execution_count": 19,
   "metadata": {},
   "outputs": [],
   "source": [
    "with open('initial_vocab.pkl', 'wb') as f:\n",
    "    pickle.dump(vocab, f)"
   ]
  },
  {
   "cell_type": "code",
   "execution_count": 20,
   "metadata": {},
   "outputs": [
    {
     "data": {
      "text/plain": [
       "17912"
      ]
     },
     "execution_count": 20,
     "metadata": {},
     "output_type": "execute_result"
    }
   ],
   "source": [
    "len(vocab)"
   ]
  },
  {
   "cell_type": "code",
   "execution_count": null,
   "metadata": {},
   "outputs": [],
   "source": []
  }
 ],
 "metadata": {
  "kernelspec": {
   "display_name": "local_nmt",
   "language": "python",
   "name": "python3"
  },
  "language_info": {
   "codemirror_mode": {
    "name": "ipython",
    "version": 3
   },
   "file_extension": ".py",
   "mimetype": "text/x-python",
   "name": "python",
   "nbconvert_exporter": "python",
   "pygments_lexer": "ipython3",
   "version": "3.8.18"
  }
 },
 "nbformat": 4,
 "nbformat_minor": 2
}
